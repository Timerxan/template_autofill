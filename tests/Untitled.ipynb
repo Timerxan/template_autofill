{
 "cells": [
  {
   "cell_type": "code",
   "execution_count": 136,
   "id": "7844ae9a",
   "metadata": {},
   "outputs": [],
   "source": [
    "from pptx import Presentation\n",
    "import pandas as pd\n",
    "import copy\n",
    "\n",
    "import src"
   ]
  },
  {
   "cell_type": "code",
   "execution_count": 138,
   "id": "e0a263f0",
   "metadata": {},
   "outputs": [],
   "source": [
    "PPT_TEMPLATE_PATH = 'template.pptx'\n",
    "DATA_PATH = 'data.xlsx'\n",
    "OUT_FILE_PATH = 'out.pptx'\n",
    "\n",
    "pres = src.read_presentation(PPT_TEMPLATE_PATH)\n",
    "data = src.read_data(DATA_PATH)\n",
    "\n",
    "new_pres = src.fill_pres_with_data(pres, data)\n",
    "\n",
    "src.save_presentation(new_pres, OUT_FILE_PATH)"
   ]
  },
  {
   "cell_type": "code",
   "execution_count": 126,
   "id": "533cfea3",
   "metadata": {},
   "outputs": [],
   "source": []
  },
  {
   "cell_type": "code",
   "execution_count": null,
   "id": "bf05d67a",
   "metadata": {},
   "outputs": [],
   "source": []
  }
 ],
 "metadata": {
  "kernelspec": {
   "display_name": "Python 3 (ipykernel)",
   "language": "python",
   "name": "python3"
  },
  "language_info": {
   "codemirror_mode": {
    "name": "ipython",
    "version": 3
   },
   "file_extension": ".py",
   "mimetype": "text/x-python",
   "name": "python",
   "nbconvert_exporter": "python",
   "pygments_lexer": "ipython3",
   "version": "3.9.7"
  }
 },
 "nbformat": 4,
 "nbformat_minor": 5
}
