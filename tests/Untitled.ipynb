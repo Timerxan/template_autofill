{
 "cells": [
  {
   "cell_type": "code",
   "execution_count": 8,
   "id": "94eca659",
   "metadata": {},
   "outputs": [],
   "source": [
    "import zipfile"
   ]
  },
  {
   "cell_type": "code",
   "execution_count": 9,
   "id": "7844ae9a",
   "metadata": {},
   "outputs": [
    {
     "ename": "ModuleNotFoundError",
     "evalue": "No module named 'template_autofill'",
     "output_type": "error",
     "traceback": [
      "\u001b[1;31m---------------------------------------------------------------------------\u001b[0m",
      "\u001b[1;31mModuleNotFoundError\u001b[0m                       Traceback (most recent call last)",
      "\u001b[1;32m~\\AppData\\Local\\Temp/ipykernel_6048/1605682960.py\u001b[0m in \u001b[0;36m<module>\u001b[1;34m\u001b[0m\n\u001b[0;32m      3\u001b[0m \u001b[1;32mimport\u001b[0m \u001b[0mcopy\u001b[0m\u001b[1;33m\u001b[0m\u001b[1;33m\u001b[0m\u001b[0m\n\u001b[0;32m      4\u001b[0m \u001b[1;33m\u001b[0m\u001b[0m\n\u001b[1;32m----> 5\u001b[1;33m \u001b[1;32mfrom\u001b[0m \u001b[0mtemplate_autofill\u001b[0m \u001b[1;32mimport\u001b[0m \u001b[0msrc\u001b[0m\u001b[1;33m\u001b[0m\u001b[1;33m\u001b[0m\u001b[0m\n\u001b[0m",
      "\u001b[1;31mModuleNotFoundError\u001b[0m: No module named 'template_autofill'"
     ]
    }
   ],
   "source": [
    "from pptx import Presentation\n",
    "import pandas as pd\n",
    "import copy\n",
    "\n",
    "from template_autofill import src"
   ]
  },
  {
   "cell_type": "code",
   "execution_count": 138,
   "id": "e0a263f0",
   "metadata": {},
   "outputs": [],
   "source": [
    "PPT_TEMPLATE_PATH = 'test_data/Certificate_test.pptx'\n",
    "DATA_PATH = 'test_data/data_test.xlsx'\n",
    "OUT_FILE_PATH = 'test_data/out.pptx'\n",
    "\n",
    "pres = src.read_presentation(PPT_TEMPLATE_PATH)\n",
    "data = src.read_data(DATA_PATH)\n",
    "\n",
    "new_pres = src.fill_pres_with_data(pres, data)\n",
    "\n",
    "src.save_presentation(new_pres, OUT_FILE_PATH)"
   ]
  },
  {
   "cell_type": "code",
   "execution_count": 126,
   "id": "533cfea3",
   "metadata": {},
   "outputs": [],
   "source": []
  },
  {
   "cell_type": "code",
   "execution_count": null,
   "id": "bf05d67a",
   "metadata": {},
   "outputs": [],
   "source": []
  }
 ],
 "metadata": {
  "kernelspec": {
   "display_name": "Python 3 (ipykernel)",
   "language": "python",
   "name": "python3"
  },
  "language_info": {
   "codemirror_mode": {
    "name": "ipython",
    "version": 3
   },
   "file_extension": ".py",
   "mimetype": "text/x-python",
   "name": "python",
   "nbconvert_exporter": "python",
   "pygments_lexer": "ipython3",
   "version": "3.9.7"
  }
 },
 "nbformat": 4,
 "nbformat_minor": 5
}
